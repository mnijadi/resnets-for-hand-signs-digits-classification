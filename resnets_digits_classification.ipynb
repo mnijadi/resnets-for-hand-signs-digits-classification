{
 "cells": [
  {
   "cell_type": "markdown",
   "metadata": {},
   "source": [
    "# Hands Signs Digits Classification Using Resnets"
   ]
  },
  {
   "cell_type": "code",
   "execution_count": 2,
   "metadata": {},
   "outputs": [],
   "source": [
    "# import packages\n",
    "import numpy as np\n",
    "import matplotlib.pyplot as plt\n",
    "\n",
    "import tensorflow as tf\n",
    "from tensorflow import keras\n",
    "from tensorflow.keras import layers\n",
    "\n",
    "import h5py\n",
    "\n",
    "%matplotlib inline\n",
    "np.random.seed(1)\n",
    "tf.random.set_seed(2)"
   ]
  },
  {
   "cell_type": "code",
   "execution_count": 3,
   "metadata": {},
   "outputs": [
    {
     "name": "stdout",
     "output_type": "stream",
     "text": [
      "(1080, 64, 64, 3)\n",
      "(120, 64, 64, 3)\n",
      "(1080, 6)\n",
      "(120, 6)\n"
     ]
    }
   ],
   "source": [
    "# load and prepare data\n",
    "train_dataset = h5py.File('data/train_signs.h5', 'r')\n",
    "X_train_orig = np.array(train_dataset['train_set_x'][:])\n",
    "Y_train_orig = np.array(train_dataset['train_set_y'][:])\n",
    "\n",
    "test_dataset = h5py.File('data/test_signs.h5', 'r')\n",
    "X_test_orig = np.array(test_dataset['test_set_x'][:])\n",
    "Y_test_orig = np.array(test_dataset['test_set_y'][:])\n",
    "\n",
    "classes = np.array(test_dataset['list_classes'][:])\n",
    "\n",
    "Y_train_orig = Y_train_orig.reshape((1, Y_train_orig.shape[0]))\n",
    "Y_test_orig = Y_test_orig.reshape((1, Y_test_orig.shape[0]))\n",
    "\n",
    "X_train = X_train_orig / 255.\n",
    "X_test = X_test_orig / 255.\n",
    "print(X_train.shape)\n",
    "print(X_test.shape)\n",
    "\n",
    "Y_train = np.eye(6)[Y_train_orig.reshape(-1)]\n",
    "Y_test = np.eye(6)[Y_test_orig.reshape(-1)]\n",
    "print(Y_train.shape)\n",
    "print(Y_test.shape)"
   ]
  },
  {
   "cell_type": "code",
   "execution_count": null,
   "metadata": {},
   "outputs": [],
   "source": [
    "# utility functions for residual blocks\n",
    "\n",
    "def identity_block(X, f, filters):\n",
    "    '''\n",
    "    This block is used when the input activation has the same dimension as the output activation.\n",
    "    The shortcut path skips over 3 layers.\n",
    "    '''\n",
    "    F1, F2, F3 = filters # number of filters for each layer\n",
    "    X_shortcut = X # save the input value for the shortcut path\n",
    "    \n",
    "    # first layer\n",
    "    X = layers.Conv2D(filters=F1, kernel_size=(1, 1), strides=(1, 1), padding='valid')(X)\n",
    "    X = layers.BatchNormalization(axis=3)(X)\n",
    "    X = layers.Activation('relu')(X)\n",
    "\n",
    "    # second layer\n",
    "    X = layers.Conv2D(filters=F2, kernel_size=(f, f), strides=(1, 1), padding='same')(X)\n",
    "    X = layers.BatchNormalization(axis=3)(X)\n",
    "    X = layers.Activation('relu')(X)\n",
    "\n",
    "    # third layer\n",
    "    X = layers.Conv2D(filters=F3, kernel_size=(1, 1), strides=(1, 1), padding='valid')(X)\n",
    "    X = layers.BatchNormalization(axis=3)(X)\n",
    "\n",
    "    # add main path with shortcut path and apply activation\n",
    "    X = layers.Add()([X, X_shortcut])\n",
    "    X = layers.Activation('relu')(X)\n",
    "\n",
    "    return X\n",
    "\n",
    "def convolution_block(X, f, filters, s=2):\n",
    "    '''\n",
    "    This block is used when the input activation doesn't have the same dimension as the output activation.\n",
    "    '''\n",
    "    F1, F2, F3 = filters # number of filters for each layer\n",
    "    X_shortcut = X # save the input value for the shortcut path\n",
    "    \n",
    "    # first layer\n",
    "    X = layers.Conv2D(filters=F1, kernel_size=(1, 1), strides=(s, s), padding='valid')(X)\n",
    "    X = layers.BatchNormalization(axis=3)(X)\n",
    "    X = layers.Activation('relu')(X)\n",
    "\n",
    "    # second layer\n",
    "    X = layers.Conv2D(filters=F2, kernel_size=(f, f), strides=(1, 1), padding='same')(X)\n",
    "    X = layers.BatchNormalization(axis=3)(X)\n",
    "    X = layers.Activation('relu')(X)\n",
    "\n",
    "    # third layer\n",
    "    X = layers.Conv2D(filters=F3, kernel_size=(1, 1), strides=(1, 1), padding='valid')(X)\n",
    "    X = layers.BatchNormalization(axis=3)(X)\n",
    "\n",
    "    # shortcut path\n",
    "    X_shortcut = layers.Conv2D(filters=F3, kernel_size=(1, 1), strides=(s, s), padding='valid')(X_shortcut)\n",
    "    X_shortcut = layers.BatchNormalization(axis=3)(X_shortcut)\n",
    "\n",
    "    # add main path with shortcut path and apply activation\n",
    "    X = layers.Add()([X, X_shortcut])\n",
    "    X = layers.Activation('relu')(X)\n",
    "\n",
    "    return X"
   ]
  },
  {
   "cell_type": "code",
   "execution_count": null,
   "metadata": {},
   "outputs": [],
   "source": [
    "# build the ResNet50 model\n"
   ]
  }
 ],
 "metadata": {
  "kernelspec": {
   "display_name": "base",
   "language": "python",
   "name": "python3"
  },
  "language_info": {
   "codemirror_mode": {
    "name": "ipython",
    "version": 3
   },
   "file_extension": ".py",
   "mimetype": "text/x-python",
   "name": "python",
   "nbconvert_exporter": "python",
   "pygments_lexer": "ipython3",
   "version": "3.10.11"
  },
  "orig_nbformat": 4
 },
 "nbformat": 4,
 "nbformat_minor": 2
}
