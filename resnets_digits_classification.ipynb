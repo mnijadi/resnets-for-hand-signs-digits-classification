{
 "cells": [
  {
   "cell_type": "markdown",
   "metadata": {},
   "source": [
    "# Hands Signs Digits Classification Using Resnets"
   ]
  },
  {
   "cell_type": "code",
   "execution_count": 2,
   "metadata": {},
   "outputs": [],
   "source": [
    "# import packages\n",
    "import numpy as np\n",
    "import matplotlib.pyplot as plt\n",
    "\n",
    "import tensorflow as tf\n",
    "from tensorflow import keras\n",
    "from tensorflow.keras import layers\n",
    "\n",
    "import h5py\n",
    "\n",
    "%matplotlib inline\n",
    "np.random.seed(1)\n",
    "tf.random.set_seed(2)"
   ]
  },
  {
   "cell_type": "code",
   "execution_count": 3,
   "metadata": {},
   "outputs": [
    {
     "name": "stdout",
     "output_type": "stream",
     "text": [
      "(1080, 64, 64, 3)\n",
      "(120, 64, 64, 3)\n",
      "(1080, 6)\n",
      "(120, 6)\n"
     ]
    }
   ],
   "source": [
    "# load and prepare data\n",
    "train_dataset = h5py.File('data/train_signs.h5', 'r')\n",
    "X_train_orig = np.array(train_dataset['train_set_x'][:])\n",
    "Y_train_orig = np.array(train_dataset['train_set_y'][:])\n",
    "\n",
    "test_dataset = h5py.File('data/test_signs.h5', 'r')\n",
    "X_test_orig = np.array(test_dataset['test_set_x'][:])\n",
    "Y_test_orig = np.array(test_dataset['test_set_y'][:])\n",
    "\n",
    "classes = np.array(test_dataset['list_classes'][:])\n",
    "\n",
    "Y_train_orig = Y_train_orig.reshape((1, Y_train_orig.shape[0]))\n",
    "Y_test_orig = Y_test_orig.reshape((1, Y_test_orig.shape[0]))\n",
    "\n",
    "X_train = X_train_orig / 255.\n",
    "X_test = X_test_orig / 255.\n",
    "print(X_train.shape)\n",
    "print(X_test.shape)\n",
    "\n",
    "Y_train = np.eye(6)[Y_train_orig.reshape(-1)]\n",
    "Y_test = np.eye(6)[Y_test_orig.reshape(-1)]\n",
    "print(Y_train.shape)\n",
    "print(Y_test.shape)"
   ]
  },
  {
   "cell_type": "code",
   "execution_count": 4,
   "metadata": {},
   "outputs": [],
   "source": [
    "# utility functions for residual blocks\n",
    "\n",
    "def identity_block(X, f, filters):\n",
    "    '''\n",
    "    This block is used when the input activation has the same dimension as the output activation.\n",
    "    The shortcut path skips over 3 layers.\n",
    "    '''\n",
    "    F1, F2, F3 = filters # number of filters for each layer\n",
    "    X_shortcut = X # save the input value for the shortcut path\n",
    "    \n",
    "    # first layer\n",
    "    X = layers.Conv2D(filters=F1, kernel_size=(1, 1), strides=(1, 1), padding='valid')(X)\n",
    "    X = layers.BatchNormalization(axis=3)(X)\n",
    "    X = layers.Activation('relu')(X)\n",
    "\n",
    "    # second layer\n",
    "    X = layers.Conv2D(filters=F2, kernel_size=(f, f), strides=(1, 1), padding='same')(X)\n",
    "    X = layers.BatchNormalization(axis=3)(X)\n",
    "    X = layers.Activation('relu')(X)\n",
    "\n",
    "    # third layer\n",
    "    X = layers.Conv2D(filters=F3, kernel_size=(1, 1), strides=(1, 1), padding='valid')(X)\n",
    "    X = layers.BatchNormalization(axis=3)(X)\n",
    "\n",
    "    # add main path with shortcut path and apply activation\n",
    "    X = layers.Add()([X, X_shortcut])\n",
    "    X = layers.Activation('relu')(X)\n",
    "\n",
    "    return X\n",
    "\n",
    "def convolution_block(X, f, filters, s=2):\n",
    "    '''\n",
    "    This block is used when the input activation doesn't have the same dimension as the output activation.\n",
    "    '''\n",
    "    F1, F2, F3 = filters # number of filters for each layer\n",
    "    X_shortcut = X # save the input value for the shortcut path\n",
    "    \n",
    "    # first layer\n",
    "    X = layers.Conv2D(filters=F1, kernel_size=(1, 1), strides=(s, s), padding='valid')(X)\n",
    "    X = layers.BatchNormalization(axis=3)(X)\n",
    "    X = layers.Activation('relu')(X)\n",
    "\n",
    "    # second layer\n",
    "    X = layers.Conv2D(filters=F2, kernel_size=(f, f), strides=(1, 1), padding='same')(X)\n",
    "    X = layers.BatchNormalization(axis=3)(X)\n",
    "    X = layers.Activation('relu')(X)\n",
    "\n",
    "    # third layer\n",
    "    X = layers.Conv2D(filters=F3, kernel_size=(1, 1), strides=(1, 1), padding='valid')(X)\n",
    "    X = layers.BatchNormalization(axis=3)(X)\n",
    "\n",
    "    # shortcut path\n",
    "    X_shortcut = layers.Conv2D(filters=F3, kernel_size=(1, 1), strides=(s, s), padding='valid')(X_shortcut)\n",
    "    X_shortcut = layers.BatchNormalization(axis=3)(X_shortcut)\n",
    "\n",
    "    # add main path with shortcut path and apply activation\n",
    "    X = layers.Add()([X, X_shortcut])\n",
    "    X = layers.Activation('relu')(X)\n",
    "\n",
    "    return X"
   ]
  },
  {
   "cell_type": "code",
   "execution_count": 6,
   "metadata": {},
   "outputs": [],
   "source": [
    "# build the ResNet50 model\n",
    "def ResNet50(input_shape=(64, 64, 3), classes=6, training=False):\n",
    "    '''\n",
    "    The model uses multiple stages of residual connections that are implemented as blocks of convolutions and blocks of identity mappings.\n",
    "    '''\n",
    "    # pre stage\n",
    "    input = layers.Input(shape=input_shape)\n",
    "    X = layers.ZeroPadding2D((3, 3))(input)\n",
    "\n",
    "    # stage 1  \n",
    "    X = layers.Conv2D(filters=64, kernel_size=7, strides=2)(X)\n",
    "    X = layers.BatchNormalization(axis=3)(X)\n",
    "    X = layers.Activation('relu')(X)\n",
    "    X = layers.MaxPooling2D(pool_size=3, strides=2)(X)\n",
    "\n",
    "    # stage 2\n",
    "    X = convolution_block(X, f=3, filters=[64, 64, 256], s=1)\n",
    "    for i in range(2):\n",
    "        X = identity_block(X, f=3, filters=[64, 64, 256])\n",
    "\n",
    "    # stage 3\n",
    "    X = convolution_block(X, f=3, filters=[128, 128, 512], s=2)\n",
    "    for i in range(3):\n",
    "        X = identity_block(X, f=3, filters=[128, 128, 512])\n",
    "\n",
    "    # stage 4\n",
    "    X = convolution_block(X, f=3, filters=[256, 256, 1024], s=2)\n",
    "    for i in range(5):\n",
    "        X = identity_block(X, f=3, filters=[256, 256, 1024])\n",
    "\n",
    "    # stage 5\n",
    "    X = convolution_block(X, f=3, filters=[512, 512, 2048], s=2)\n",
    "    for i in range(2):\n",
    "        X = identity_block(X, f=3, filters=[512, 512, 2048])\n",
    "\n",
    "    # post stage\n",
    "    X = layers.AveragePooling2D(pool_size=2)(X)\n",
    "    X = layers.Flatten()(X)\n",
    "    X = layers.Dense(classes, activation='softmax')(X)\n",
    "\n",
    "    # create model\n",
    "    model = keras.Model(inputs=input, outputs=X, name='ResNet50')\n",
    "\n",
    "    return model"
   ]
  },
  {
   "cell_type": "code",
   "execution_count": 11,
   "metadata": {},
   "outputs": [],
   "source": [
    "model = ResNet50(input_shape=(64, 64, 3), classes=6)\n",
    "model.compile(optimizer=keras.optimizers.Adam(learning_rate=0.00015), loss='categorical_crossentropy', metrics=['accuracy'])"
   ]
  },
  {
   "cell_type": "code",
   "execution_count": 12,
   "metadata": {},
   "outputs": [
    {
     "name": "stdout",
     "output_type": "stream",
     "text": [
      "Epoch 1/5\n"
     ]
    },
    {
     "name": "stderr",
     "output_type": "stream",
     "text": [
      "2023-09-15 12:03:57.564317: W tensorflow/tsl/framework/cpu_allocator_impl.cc:83] Allocation of 53084160 exceeds 10% of free system memory.\n"
     ]
    },
    {
     "name": "stdout",
     "output_type": "stream",
     "text": [
      "34/34 [==============================] - 78s 2s/step - loss: 1.6980 - accuracy: 0.3472\n",
      "Epoch 2/5\n",
      "34/34 [==============================] - 63s 2s/step - loss: 1.1242 - accuracy: 0.5602\n",
      "Epoch 3/5\n",
      "34/34 [==============================] - 62s 2s/step - loss: 0.9108 - accuracy: 0.6593\n",
      "Epoch 4/5\n",
      "34/34 [==============================] - 62s 2s/step - loss: 0.6071 - accuracy: 0.7750\n",
      "Epoch 5/5\n",
      "34/34 [==============================] - 63s 2s/step - loss: 0.3795 - accuracy: 0.8611\n"
     ]
    },
    {
     "data": {
      "text/plain": [
       "<keras.src.callbacks.History at 0x7fb3582ceb00>"
      ]
     },
     "execution_count": 12,
     "metadata": {},
     "output_type": "execute_result"
    }
   ],
   "source": [
    "model.fit(X_train, Y_train, epochs=5, batch_size=32)"
   ]
  },
  {
   "cell_type": "markdown",
   "metadata": {},
   "source": [
    "Model has been trained on 5 epochs only because I'm currently running on CPU. It can be trained on more epochs for better results."
   ]
  }
 ],
 "metadata": {
  "kernelspec": {
   "display_name": "base",
   "language": "python",
   "name": "python3"
  },
  "language_info": {
   "codemirror_mode": {
    "name": "ipython",
    "version": 3
   },
   "file_extension": ".py",
   "mimetype": "text/x-python",
   "name": "python",
   "nbconvert_exporter": "python",
   "pygments_lexer": "ipython3",
   "version": "3.10.11"
  },
  "orig_nbformat": 4
 },
 "nbformat": 4,
 "nbformat_minor": 2
}
